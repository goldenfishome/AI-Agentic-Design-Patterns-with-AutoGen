{
 "cells": [
  {
   "cell_type": "markdown",
   "id": "fc3024e2",
   "metadata": {},
   "source": [
    "# Lesson 3: Reflection and Blogpost Writing"
   ]
  },
  {
   "cell_type": "markdown",
   "id": "3b0cc42f",
   "metadata": {},
   "source": [
    "## Setup"
   ]
  },
  {
   "cell_type": "code",
   "execution_count": 1,
   "id": "96d39be0-eaf3-456d-8613-ba21099ed36b",
   "metadata": {
    "height": 30
   },
   "outputs": [],
   "source": [
    "llm_config = {\"model\": \"gpt-3.5-turbo\"}"
   ]
  },
  {
   "cell_type": "markdown",
   "id": "0969e6bb",
   "metadata": {},
   "source": [
    "## The task!"
   ]
  },
  {
   "cell_type": "code",
   "execution_count": 2,
   "id": "e8074032-3690-4de9-ad08-ea8323cb441b",
   "metadata": {
    "height": 115
   },
   "outputs": [],
   "source": [
    "task = '''\n",
    "        Write a concise but engaging blogpost about\n",
    "       DeepLearning.AI. Make sure the blogpost is\n",
    "       within 100 words.\n",
    "       '''\n"
   ]
  },
  {
   "cell_type": "markdown",
   "id": "1987f023",
   "metadata": {},
   "source": [
    "## Create a writer agent"
   ]
  },
  {
   "cell_type": "code",
   "execution_count": 3,
   "id": "fe0f0a47-a9fe-43a0-b7b1-79922e4c4ac8",
   "metadata": {
    "height": 200
   },
   "outputs": [],
   "source": [
    "import autogen\n",
    "\n",
    "# 1st thing to construct writer agent to do the task\n",
    "writer = autogen.AssistantAgent(\n",
    "    name=\"Writer\",\n",
    "    system_message=\"You are a writer. You write engaging and concise \" \n",
    "        \"blogpost (with title) on given topics. You must polish your \"\n",
    "        \"writing based on the feedback you receive and give a refined \"\n",
    "        \"version. Only return your final work without additional comments.\",\n",
    "    llm_config=llm_config,\n",
    ")"
   ]
  },
  {
   "cell_type": "code",
   "execution_count": 4,
   "id": "7c7b4d8d-40f7-4a05-8958-25d20054de3a",
   "metadata": {
    "height": 30
   },
   "outputs": [],
   "source": [
    "reply = writer.generate_reply(messages=[{\"content\": task, \"role\": \"user\"}])"
   ]
  },
  {
   "cell_type": "code",
   "execution_count": 5,
   "id": "c501c97d-e338-4f36-a384-6ec45983cf77",
   "metadata": {
    "height": 30
   },
   "outputs": [
    {
     "name": "stdout",
     "output_type": "stream",
     "text": [
      "Title: \"Unleashing the Power of AI with DeepLearning.AI\"\n",
      "\n",
      "Are you eager to unlock the potential of artificial intelligence? Look no further than DeepLearning.AI. Founded by the renowned Andrew Ng, this platform offers top-tier courses that dive deep into the realm of machine learning and AI. From neural networks to natural language processing, you can upskill and stay ahead in this rapidly evolving field. Whether you're a seasoned professional or just starting, DeepLearning.AI provides the tools and knowledge to propel your AI journey. Join the ranks of AI enthusiasts today and set off on a learning adventure with DeepLearning.AI!\n"
     ]
    }
   ],
   "source": [
    "print(reply)"
   ]
  },
  {
   "cell_type": "markdown",
   "id": "49658114",
   "metadata": {},
   "source": [
    "## Adding reflection \n",
    "\n",
    "Create a critic agent to reflect on the work of the writer agent."
   ]
  },
  {
   "cell_type": "code",
   "execution_count": 6,
   "id": "c7fcd1c7-51ec-4915-8e97-bac03565c4c7",
   "metadata": {
    "height": 200
   },
   "outputs": [],
   "source": [
    "# create AssistantAgent from autogen, use LLM\n",
    "# prompt critic to investigate writing of writer &provide feedback\n",
    "\n",
    "critic = autogen.AssistantAgent(\n",
    "    name=\"Critic\",\n",
    "    is_termination_msg=lambda x: x.get(\"content\", \"\").find(\"TERMINATE\") >= 0,\n",
    "    llm_config=llm_config,\n",
    "    system_message=\"You are a critic. You review the work of \"\n",
    "                \"the writer and provide constructive \"\n",
    "                \"feedback to help improve the quality of the content.\",\n",
    ")"
   ]
  },
  {
   "cell_type": "code",
   "execution_count": 7,
   "id": "899d5fdb-6081-470b-b287-8cf8b8142d0d",
   "metadata": {
    "height": 132
   },
   "outputs": [
    {
     "name": "stdout",
     "output_type": "stream",
     "text": [
      "\u001b[33mCritic\u001b[0m (to Writer):\n",
      "\n",
      "\n",
      "        Write a concise but engaging blogpost about\n",
      "       DeepLearning.AI. Make sure the blogpost is\n",
      "       within 100 words.\n",
      "       \n",
      "\n",
      "--------------------------------------------------------------------------------\n",
      "\u001b[33mWriter\u001b[0m (to Critic):\n",
      "\n",
      "Title: \"Unleashing the Power of AI with DeepLearning.AI\"\n",
      "\n",
      "Are you eager to unlock the potential of artificial intelligence? Look no further than DeepLearning.AI. Founded by the renowned Andrew Ng, this platform offers top-tier courses that dive deep into the realm of machine learning and AI. From neural networks to natural language processing, you can upskill and stay ahead in this rapidly evolving field. Whether you're a seasoned professional or just starting, DeepLearning.AI provides the tools and knowledge to propel your AI journey. Join the ranks of AI enthusiasts today and set off on a learning adventure with DeepLearning.AI!\n",
      "\n",
      "--------------------------------------------------------------------------------\n",
      "\u001b[33mCritic\u001b[0m (to Writer):\n",
      "\n",
      "This blogpost about DeepLearning.AI effectively captures the essence of the platform and its offerings in a concise and engaging manner. The title is captivating and sets the tone for the content that follows. The content highlights the expertise of Andrew Ng, the comprehensive nature of the courses, and the benefits of upskilling in AI. To improve, consider adding specific examples of courses or success stories to make the post more compelling. Additionally, incorporating some statistics or data on the impact of DeepLearning.AI could further strengthen the argument. Overall, a well-written piece that could be enhanced with more concrete details.\n",
      "\n",
      "--------------------------------------------------------------------------------\n",
      "\u001b[33mWriter\u001b[0m (to Critic):\n",
      "\n",
      "Title: \"Unleashing the Power of AI: DeepLearning.AI at a Glance\"\n",
      "\n",
      "Are you ready to dive into the exciting world of AI and machine learning? DeepLearning.AI, spearheaded by the esteemed Andrew Ng, offers a plethora of cutting-edge courses to cater to your learning needs. From the fundamentals of neural networks to advanced natural language processing techniques, the platform equips you with the tools to excel in this dynamic field. Imagine mastering deep learning essentials with the \"Deep Learning Specialization\" or delving into computer vision with \"Convolutional Neural Networks.\" Embark on your AI journey today with DeepLearning.AI and be part of the transformative impact AI is making across industries globally.\n",
      "\n",
      "--------------------------------------------------------------------------------\n"
     ]
    }
   ],
   "source": [
    "# initiate chat between 2 agents\n",
    "res = critic.initiate_chat(\n",
    "    recipient=writer,\n",
    "    message=task,\n",
    "    max_turns=2,\n",
    "    summary_method=\"last_msg\"\n",
    ")"
   ]
  },
  {
   "cell_type": "markdown",
   "id": "e7b76449",
   "metadata": {},
   "source": [
    "## Nested chat"
   ]
  },
  {
   "cell_type": "code",
   "execution_count": 8,
   "id": "401ecf92-63e9-40ff-aeed-1c404352e4ab",
   "metadata": {
    "height": 234
   },
   "outputs": [],
   "source": [
    "# create a bunch of reviewers, & meta reviewer to aggregate all reviews & give final suggestions\n",
    "\n",
    "SEO_reviewer = autogen.AssistantAgent(\n",
    "    name=\"SEO Reviewer\",\n",
    "    llm_config=llm_config,\n",
    "    system_message=\"You are an SEO reviewer, known for \"\n",
    "        \"your ability to optimize content for search engines, \"\n",
    "        \"ensuring that it ranks well and attracts organic traffic. \" \n",
    "        \"Make sure your suggestion is concise (within 3 bullet points), \"\n",
    "        \"concrete and to the point. \"\n",
    "        \"Begin the review by stating your role.\",\n",
    ")\n"
   ]
  },
  {
   "cell_type": "code",
   "execution_count": 9,
   "id": "f85acb81-7ab9-4c84-b8bb-6fbae3dce848",
   "metadata": {
    "height": 183
   },
   "outputs": [],
   "source": [
    "legal_reviewer = autogen.AssistantAgent(\n",
    "    name=\"Legal Reviewer\",\n",
    "    llm_config=llm_config,\n",
    "    system_message=\"You are a legal reviewer, known for \"\n",
    "        \"your ability to ensure that content is legally compliant \"\n",
    "        \"and free from any potential legal issues. \"\n",
    "        \"Make sure your suggestion is concise (within 3 bullet points), \"\n",
    "        \"concrete and to the point. \"\n",
    "        \"Begin the review by stating your role.\",\n",
    ")"
   ]
  },
  {
   "cell_type": "code",
   "execution_count": 10,
   "id": "d46a177a-8088-4956-8d2b-3e916b8ca5e9",
   "metadata": {
    "height": 183
   },
   "outputs": [],
   "source": [
    "ethics_reviewer = autogen.AssistantAgent(\n",
    "    name=\"Ethics Reviewer\",\n",
    "    llm_config=llm_config,\n",
    "    system_message=\"You are an ethics reviewer, known for \"\n",
    "        \"your ability to ensure that content is ethically sound \"\n",
    "        \"and free from any potential ethical issues. \" \n",
    "        \"Make sure your suggestion is concise (within 3 bullet points), \"\n",
    "        \"concrete and to the point. \"\n",
    "        \"Begin the review by stating your role. \",\n",
    ")"
   ]
  },
  {
   "cell_type": "code",
   "execution_count": 11,
   "id": "a7b2ad6f-8ba6-436a-9459-14ffbe8a32d3",
   "metadata": {
    "height": 115
   },
   "outputs": [],
   "source": [
    "meta_reviewer = autogen.AssistantAgent(\n",
    "    name=\"Meta Reviewer\",\n",
    "    llm_config=llm_config,\n",
    "    system_message=\"You are a meta reviewer, you aggragate and review \"\n",
    "    \"the work of other reviewers and give a final suggestion on the content.\",\n",
    ")"
   ]
  },
  {
   "cell_type": "markdown",
   "id": "913beca1",
   "metadata": {},
   "source": [
    "## Orchestrate the nested chats to solve the task"
   ]
  },
  {
   "cell_type": "code",
   "execution_count": 12,
   "id": "a11a70c7-19ca-4e5a-ad3d-f2b481fb5915",
   "metadata": {
    "height": 676
   },
   "outputs": [],
   "source": [
    "# define task to be registered by sequential chat pattern\n",
    "# between critic & reviewers; each chats have reviewer as recipient, critic is the sender by default\n",
    "\n",
    "# get the content from the summary of auto chat session\n",
    "def reflection_message(recipient, messages, sender, config):\n",
    "    return f'''Review the following content. \n",
    "            \\n\\n {recipient.chat_messages_for_summary(sender)[-1]['content']}'''\n",
    "\n",
    "\n",
    "\n",
    "review_chats = [\n",
    "    {\n",
    "     \"recipient\": SEO_reviewer, \n",
    "     \"message\": reflection_message, \n",
    "    # use LLM reflection model to reflect the summary\n",
    "     \"summary_method\": \"reflection_with_llm\",\n",
    "    # summary prompt will be the review in json format\n",
    "     \"summary_args\": {\"summary_prompt\" : \n",
    "        \"Return review into as JSON object only:\"\n",
    "        \"{'Reviewer': '', 'Review': ''}. Here Reviewer should be your role\",},\n",
    "     \"max_turns\": 1},\n",
    "    {\n",
    "    \"recipient\": legal_reviewer, \"message\": reflection_message, \n",
    "     \"summary_method\": \"reflection_with_llm\",\n",
    "     \"summary_args\": {\"summary_prompt\" : \n",
    "        \"Return review into as JSON object only:\"\n",
    "        \"{'Reviewer': '', 'Review': ''}.\",},\n",
    "     \"max_turns\": 1},\n",
    "    {\"recipient\": ethics_reviewer, \"message\": reflection_message, \n",
    "     \"summary_method\": \"reflection_with_llm\",\n",
    "     \"summary_args\": {\"summary_prompt\" : \n",
    "        \"Return review into as JSON object only:\"\n",
    "        \"{'reviewer': '', 'review': ''}\",},\n",
    "     \"max_turns\": 1},\n",
    "     {\"recipient\": meta_reviewer, \n",
    "      \"message\": \"Aggregrate feedback from all reviewers and give final suggestions on the writing.\", \n",
    "     \"max_turns\": 1},\n",
    "]\n"
   ]
  },
  {
   "cell_type": "code",
   "execution_count": 13,
   "id": "b3a40b66-5061-460d-ad9d-c0dbcfbba2e9",
   "metadata": {
    "height": 115
   },
   "outputs": [],
   "source": [
    "# register review chat, set the trigger by writer\n",
    "# whenever critic receive message from writer, it roll message to nested chat for reflection\n",
    "critic.register_nested_chats(\n",
    "    review_chats,\n",
    "    trigger=writer,\n",
    ")"
   ]
  },
  {
   "cell_type": "markdown",
   "id": "43b8797d",
   "metadata": {},
   "source": [
    "**Note**: You might get a slightly different response than what's shown in the video. Feel free to try different task."
   ]
  },
  {
   "cell_type": "code",
   "execution_count": 14,
   "id": "3b8dcac3-1e72-43b7-9d5a-1be740f6efd5",
   "metadata": {
    "height": 132
   },
   "outputs": [
    {
     "name": "stdout",
     "output_type": "stream",
     "text": [
      "\u001b[33mCritic\u001b[0m (to Writer):\n",
      "\n",
      "\n",
      "        Write a concise but engaging blogpost about\n",
      "       DeepLearning.AI. Make sure the blogpost is\n",
      "       within 100 words.\n",
      "       \n",
      "\n",
      "--------------------------------------------------------------------------------\n",
      "\u001b[33mWriter\u001b[0m (to Critic):\n",
      "\n",
      "Title: \"Unleashing the Power of AI with DeepLearning.AI\"\n",
      "\n",
      "Are you eager to unlock the potential of artificial intelligence? Look no further than DeepLearning.AI. Founded by the renowned Andrew Ng, this platform offers top-tier courses that dive deep into the realm of machine learning and AI. From neural networks to natural language processing, you can upskill and stay ahead in this rapidly evolving field. Whether you're a seasoned professional or just starting, DeepLearning.AI provides the tools and knowledge to propel your AI journey. Join the ranks of AI enthusiasts today and set off on a learning adventure with DeepLearning.AI!\n",
      "\n",
      "--------------------------------------------------------------------------------\n",
      "\u001b[34m\n",
      "********************************************************************************\u001b[0m\n",
      "\u001b[34mStarting a new chat....\u001b[0m\n",
      "\u001b[34m\n",
      "********************************************************************************\u001b[0m\n",
      "\u001b[33mCritic\u001b[0m (to SEO Reviewer):\n",
      "\n",
      "Review the following content. \n",
      "            \n",
      "\n",
      " Title: \"Unleashing the Power of AI with DeepLearning.AI\"\n",
      "\n",
      "Are you eager to unlock the potential of artificial intelligence? Look no further than DeepLearning.AI. Founded by the renowned Andrew Ng, this platform offers top-tier courses that dive deep into the realm of machine learning and AI. From neural networks to natural language processing, you can upskill and stay ahead in this rapidly evolving field. Whether you're a seasoned professional or just starting, DeepLearning.AI provides the tools and knowledge to propel your AI journey. Join the ranks of AI enthusiasts today and set off on a learning adventure with DeepLearning.AI!\n",
      "\n",
      "--------------------------------------------------------------------------------\n",
      "\u001b[33mSEO Reviewer\u001b[0m (to Critic):\n",
      "\n",
      "As an SEO reviewer, your content is engaging and informative, but it could benefit from some optimization. Here are some suggestions:\n",
      "\n",
      "1. Include strategic keywords: Incorporate relevant keywords like \"AI courses,\" \"machine learning,\" and \"Andrew Ng\" to improve search engine visibility.\n",
      "\n",
      "2. Optimize title tag: Revise the title to be more keyword-rich and concise, such as \"DeepLearning.AI: AI Courses by Andrew Ng | Machine Learning Training.\"\n",
      "\n",
      "3. Enhance meta description: Craft a compelling meta description highlighting key offerings like \"neural networks\" and \"natural language processing\" to entice users and improve click-through rates.\n",
      "\n",
      "--------------------------------------------------------------------------------\n",
      "\u001b[34m\n",
      "********************************************************************************\u001b[0m\n",
      "\u001b[34mStarting a new chat....\u001b[0m\n",
      "\u001b[34m\n",
      "********************************************************************************\u001b[0m\n",
      "\u001b[33mCritic\u001b[0m (to Legal Reviewer):\n",
      "\n",
      "Review the following content. \n",
      "            \n",
      "\n",
      " Title: \"Unleashing the Power of AI with DeepLearning.AI\"\n",
      "\n",
      "Are you eager to unlock the potential of artificial intelligence? Look no further than DeepLearning.AI. Founded by the renowned Andrew Ng, this platform offers top-tier courses that dive deep into the realm of machine learning and AI. From neural networks to natural language processing, you can upskill and stay ahead in this rapidly evolving field. Whether you're a seasoned professional or just starting, DeepLearning.AI provides the tools and knowledge to propel your AI journey. Join the ranks of AI enthusiasts today and set off on a learning adventure with DeepLearning.AI!\n",
      "Context: \n",
      "{'Reviewer': 'SEO reviewer', 'Review': 'As an SEO reviewer, your content is engaging and informative, but it could benefit from some optimization. Here are some suggestions: 1. Include strategic keywords: Incorporate relevant keywords like \"AI courses,\" \"machine learning,\" and \"Andrew Ng\" to improve search engine visibility. 2. Optimize title tag: Revise the title to be more keyword-rich and concise, such as \"DeepLearning.AI: AI Courses by Andrew Ng | Machine Learning Training.\" 3. Enhance meta description: Craft a compelling meta description highlighting key offerings like \"neural networks\" and \"natural language processing\" to entice users and improve click-through rates.'}\n",
      "\n",
      "--------------------------------------------------------------------------------\n",
      "\u001b[33mLegal Reviewer\u001b[0m (to Critic):\n",
      "\n",
      "As a legal reviewer:\n",
      "\n",
      "- Ensure that the content does not make any unverified or exaggerated claims about the effectiveness or outcomes of the courses offered by DeepLearning.AI.\n",
      "- Avoid using any trademarks or copyrighted material without proper authorization or attribution in the content.\n",
      "- Verify the accuracy of any statements or statistics mentioned regarding the capabilities or impact of AI technologies for compliance with laws and regulations.\n",
      "\n",
      "--------------------------------------------------------------------------------\n",
      "\u001b[34m\n",
      "********************************************************************************\u001b[0m\n",
      "\u001b[34mStarting a new chat....\u001b[0m\n",
      "\u001b[34m\n",
      "********************************************************************************\u001b[0m\n",
      "\u001b[33mCritic\u001b[0m (to Ethics Reviewer):\n",
      "\n",
      "Review the following content. \n",
      "            \n",
      "\n",
      " Title: \"Unleashing the Power of AI with DeepLearning.AI\"\n",
      "\n",
      "Are you eager to unlock the potential of artificial intelligence? Look no further than DeepLearning.AI. Founded by the renowned Andrew Ng, this platform offers top-tier courses that dive deep into the realm of machine learning and AI. From neural networks to natural language processing, you can upskill and stay ahead in this rapidly evolving field. Whether you're a seasoned professional or just starting, DeepLearning.AI provides the tools and knowledge to propel your AI journey. Join the ranks of AI enthusiasts today and set off on a learning adventure with DeepLearning.AI!\n",
      "Context: \n",
      "{'Reviewer': 'SEO reviewer', 'Review': 'As an SEO reviewer, your content is engaging and informative, but it could benefit from some optimization. Here are some suggestions: 1. Include strategic keywords: Incorporate relevant keywords like \"AI courses,\" \"machine learning,\" and \"Andrew Ng\" to improve search engine visibility. 2. Optimize title tag: Revise the title to be more keyword-rich and concise, such as \"DeepLearning.AI: AI Courses by Andrew Ng | Machine Learning Training.\" 3. Enhance meta description: Craft a compelling meta description highlighting key offerings like \"neural networks\" and \"natural language processing\" to entice users and improve click-through rates.'}\n",
      "{'Reviewer': 'SEO reviewer', 'Review': 'As an SEO reviewer, your content is engaging and informative, but it could benefit from some optimization. Here are some suggestions: 1. Include strategic keywords: Incorporate relevant keywords like \"AI courses,\" \"machine learning,\" and \"Andrew Ng\" to improve search engine visibility. 2. Optimize title tag: Revise the title to be more keyword-rich and concise, such as \"DeepLearning.AI: AI Courses by Andrew Ng | Machine Learning Training.\" 3. Enhance meta description: Craft a compelling meta description highlighting key offerings like \"neural networks\" and \"natural language processing\" to entice users and improve click-through rates.'}\n",
      "\n",
      "--------------------------------------------------------------------------------\n",
      "\u001b[33mEthics Reviewer\u001b[0m (to Critic):\n",
      "\n",
      "As an ethics reviewer:\n",
      "\n",
      "- Ensure that the promotional content accurately represents the offerings and benefits of DeepLearning.AI without any exaggeration or false claims.\n",
      "- Avoid any misleading statements that could give potential users unrealistic expectations about the outcomes of participating in the courses.\n",
      "- Be mindful of using language that may inadvertently create a sense of urgency or pressure individuals to join the platform.\n",
      "\n",
      "--------------------------------------------------------------------------------\n",
      "\u001b[34m\n",
      "********************************************************************************\u001b[0m\n",
      "\u001b[34mStarting a new chat....\u001b[0m\n",
      "\u001b[34m\n",
      "********************************************************************************\u001b[0m\n"
     ]
    },
    {
     "name": "stdout",
     "output_type": "stream",
     "text": [
      "\u001b[33mCritic\u001b[0m (to Meta Reviewer):\n",
      "\n",
      "Aggregrate feedback from all reviewers and give final suggestions on the writing.\n",
      "Context: \n",
      "{'Reviewer': 'SEO reviewer', 'Review': 'As an SEO reviewer, your content is engaging and informative, but it could benefit from some optimization. Here are some suggestions: 1. Include strategic keywords: Incorporate relevant keywords like \"AI courses,\" \"machine learning,\" and \"Andrew Ng\" to improve search engine visibility. 2. Optimize title tag: Revise the title to be more keyword-rich and concise, such as \"DeepLearning.AI: AI Courses by Andrew Ng | Machine Learning Training.\" 3. Enhance meta description: Craft a compelling meta description highlighting key offerings like \"neural networks\" and \"natural language processing\" to entice users and improve click-through rates.'}\n",
      "{'Reviewer': 'SEO reviewer', 'Review': 'As an SEO reviewer, your content is engaging and informative, but it could benefit from some optimization. Here are some suggestions: 1. Include strategic keywords: Incorporate relevant keywords like \"AI courses,\" \"machine learning,\" and \"Andrew Ng\" to improve search engine visibility. 2. Optimize title tag: Revise the title to be more keyword-rich and concise, such as \"DeepLearning.AI: AI Courses by Andrew Ng | Machine Learning Training.\" 3. Enhance meta description: Craft a compelling meta description highlighting key offerings like \"neural networks\" and \"natural language processing\" to entice users and improve click-through rates.'}\n",
      "{'reviewer': 'SEO reviewer', 'review': 'As an SEO reviewer, your content is engaging and informative, but it could benefit from some optimization. Here are some suggestions: 1. Include strategic keywords: Incorporate relevant keywords like \"AI courses,\" \"machine learning,\" and \"Andrew Ng\" to improve search engine visibility. 2. Optimize title tag: Revise the title to be more keyword-rich and concise, such as \"DeepLearning.AI: AI Courses by Andrew Ng | Machine Learning Training.\" 3. Enhance meta description: Craft a compelling meta description highlighting key offerings like \"neural networks\" and \"natural language processing\" to entice users and improve click-through rates.'}\n",
      "\n",
      "--------------------------------------------------------------------------------\n",
      "\u001b[33mMeta Reviewer\u001b[0m (to Critic):\n",
      "\n",
      "Aggregated feedback from SEO reviewers:\n",
      "\n",
      "1. Content is engaging and informative.\n",
      "2. Suggestions for optimization include incorporating strategic keywords like \"AI courses,\" \"machine learning,\" and \"Andrew Ng.\"\n",
      "3. Title tag and meta descriptions should be optimized for search engine visibility.\n",
      "4. Recommends revising the title to be more keyword-rich and concise.\n",
      "5. Suggests crafting a compelling meta description highlighting key offerings like \"neural networks\" and \"natural language processing\" to improve click-through rates.\n",
      "\n",
      "Overall, the reviewers are aligned in their feedback regarding the need for optimization in terms of keywords, title tag, and meta description. The suggestions provided are clear and focused on improving search engine visibility and user engagement.\n",
      "\n",
      "Final suggestion: Incorporate the recommended keywords, revise the title tag for better optimization, and enhance the meta description to improve search engine visibility and user engagement. By implementing these suggestions, the content will likely perform better in search results and attract more users.\n",
      "\n",
      "--------------------------------------------------------------------------------\n",
      "\u001b[33mCritic\u001b[0m (to Writer):\n",
      "\n",
      "Aggregated feedback from SEO reviewers:\n",
      "\n",
      "1. Content is engaging and informative.\n",
      "2. Suggestions for optimization include incorporating strategic keywords like \"AI courses,\" \"machine learning,\" and \"Andrew Ng.\"\n",
      "3. Title tag and meta descriptions should be optimized for search engine visibility.\n",
      "4. Recommends revising the title to be more keyword-rich and concise.\n",
      "5. Suggests crafting a compelling meta description highlighting key offerings like \"neural networks\" and \"natural language processing\" to improve click-through rates.\n",
      "\n",
      "Overall, the reviewers are aligned in their feedback regarding the need for optimization in terms of keywords, title tag, and meta description. The suggestions provided are clear and focused on improving search engine visibility and user engagement.\n",
      "\n",
      "Final suggestion: Incorporate the recommended keywords, revise the title tag for better optimization, and enhance the meta description to improve search engine visibility and user engagement. By implementing these suggestions, the content will likely perform better in search results and attract more users.\n",
      "\n",
      "--------------------------------------------------------------------------------\n",
      "\u001b[33mWriter\u001b[0m (to Critic):\n",
      "\n",
      "Title: \"Master AI and Machine Learning with DeepLearning.AI – Courses by Andrew Ng\"\n",
      "\n",
      "Unlock the potential of AI with DeepLearning.AI, Andrew Ng's platform offering top-tier AI courses in neural networks, natural language processing, and more. Whether you're a seasoned pro or just starting, these courses provide essential tools and knowledge for your AI journey. Explore cutting-edge AI concepts and gain valuable skills to stay ahead in this dynamic field. Join us today and embark on a learning adventure with DeepLearning.AI! Optimize your AI journey with expert-led courses tailored for success.\n",
      "\n",
      "Meta Description: Dive into the world of AI and machine learning with DeepLearning.AI. Explore neural networks, NLP, and more in expert-led courses by Andrew Ng. Start your AI journey today!\n",
      "\n",
      "--------------------------------------------------------------------------------\n"
     ]
    }
   ],
   "source": [
    "# same as the initiation in the top but with additional registration\n",
    "res = critic.initiate_chat(\n",
    "    recipient=writer,\n",
    "    message=task,\n",
    "    max_turns=2,\n",
    "    summary_method=\"last_msg\"\n",
    ")"
   ]
  },
  {
   "cell_type": "markdown",
   "id": "c5c833b0",
   "metadata": {},
   "source": [
    "## Get the summary"
   ]
  },
  {
   "cell_type": "code",
   "execution_count": 15,
   "id": "68ef82ed-f102-4964-b7be-60e2f258a39b",
   "metadata": {
    "height": 30
   },
   "outputs": [
    {
     "name": "stdout",
     "output_type": "stream",
     "text": [
      "Title: \"Master AI and Machine Learning with DeepLearning.AI – Courses by Andrew Ng\"\n",
      "\n",
      "Unlock the potential of AI with DeepLearning.AI, Andrew Ng's platform offering top-tier AI courses in neural networks, natural language processing, and more. Whether you're a seasoned pro or just starting, these courses provide essential tools and knowledge for your AI journey. Explore cutting-edge AI concepts and gain valuable skills to stay ahead in this dynamic field. Join us today and embark on a learning adventure with DeepLearning.AI! Optimize your AI journey with expert-led courses tailored for success.\n",
      "\n",
      "Meta Description: Dive into the world of AI and machine learning with DeepLearning.AI. Explore neural networks, NLP, and more in expert-led courses by Andrew Ng. Start your AI journey today!\n"
     ]
    }
   ],
   "source": [
    "print(res.summary)"
   ]
  }
 ],
 "metadata": {
  "kernelspec": {
   "display_name": "Python 3 (ipykernel)",
   "language": "python",
   "name": "python3"
  },
  "language_info": {
   "codemirror_mode": {
    "name": "ipython",
    "version": 3
   },
   "file_extension": ".py",
   "mimetype": "text/x-python",
   "name": "python",
   "nbconvert_exporter": "python",
   "pygments_lexer": "ipython3",
   "version": "3.11.9"
  }
 },
 "nbformat": 4,
 "nbformat_minor": 5
}
